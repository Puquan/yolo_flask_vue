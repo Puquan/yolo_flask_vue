{
 "cells": [
  {
   "cell_type": "markdown",
   "id": "db8218bc-ba0f-4a4d-beae-c35a24c7ecc4",
   "metadata": {},
   "source": [
    "#  任务3:模型测试及应用部署\n",
    "## 职业能力目标：\n",
    "\n",
    "- 学习使用模型预测；\n",
    "\n",
    "- 搭建web应用\n",
    "\n",
    "## 任务描述\n",
    "\n",
    "- 介绍如何加载模型\n",
    "\n",
    "- 介绍使用模型预测物体\n",
    "\n",
    "- 部署flask应用"
   ]
  },
  {
   "cell_type": "markdown",
   "id": "63e8804a-07e9-488a-8a40-8868e9aff21d",
   "metadata": {},
   "source": [
    "## 知识储备"
   ]
  },
  {
   "cell_type": "markdown",
   "id": "426617bd-1400-4c90-b9fe-0ceeaeba3ea5",
   "metadata": {},
   "source": [
    "## 1 模型部署\n",
    "模型部署一般就是把训练的模型持久化，然后运行服务器加载模型，并提供REST或其它形式的服务接口。"
   ]
  },
  {
   "cell_type": "markdown",
   "id": "40d53dda-0fb5-416f-b8fa-36133ad8eb3d",
   "metadata": {},
   "source": [
    "## 2 flask介绍\n",
    "\n",
    "### 2.1 flask是什么\n",
    "-  Flask是一个轻量级的可定制框架，使用Python语言编写，较其他同类型框架更为灵活、轻便、安全且容易上手。\n",
    "-  它可以很好地结合MVC模式进行开发，开发人员分工合作，小型团队在短时间内就可以完成功能丰富的中小型网站或Web服务的实现。\n",
    "-  另外，Flask还有很强的定制性，用户可以根据自己的需求来添加相应的功能，在保持核心功能简单的同时实现功能的丰富与扩展，其强大的插件库可以让用户实现个性化的网站定制，开发出功能强大的网站。\n",
    "\n",
    "### 2.2一个完整的HTTP请求过程\n",
    "域名解析 —> 与服务器建立连接 —> 发起HTTP请求 —> 服务器响应HTTP请求，浏览器得到html代码 —> 浏览器解析html代码，并请求html代码中的资源（如js、css、图片） —> 浏览器对页面进行渲染呈现给用户"
   ]
  },
  {
   "cell_type": "markdown",
   "id": "5115f556-8b0e-407b-acbf-fa85b754e933",
   "metadata": {},
   "source": [
    "## 任务实施"
   ]
  },
  {
   "cell_type": "markdown",
   "id": "89f05c7c",
   "metadata": {},
   "source": [
    "## 1. 部署yolo检测应用"
   ]
  },
  {
   "cell_type": "markdown",
   "id": "b2582dbb-1fb2-431a-b2da-8c20cc11092d",
   "metadata": {},
   "source": [
    "**将任务路径更改到`back`目录下**"
   ]
  },
  {
   "cell_type": "code",
   "execution_count": null,
   "id": "4672c186-5da3-40bb-a177-85b9793efb4a",
   "metadata": {},
   "outputs": [],
   "source": [
    "%cd '/home/jovyan/yolo-flask-vue/back'\n",
    "!ls"
   ]
  },
  {
   "cell_type": "markdown",
   "id": "ec991a05-8619-4906-a86a-ad48c22c1c96",
   "metadata": {},
   "source": [
    "### 1.1 导入模块，读取配置"
   ]
  },
  {
   "cell_type": "code",
   "execution_count": null,
   "id": "449ce367-b064-408c-a701-f8764b4f771a",
   "metadata": {},
   "outputs": [],
   "source": [
    "!sudo pip install --upgrade pip\n",
    "\n",
    "!sudo pip install -r requirements.txt -i https://pypi.douban.com/simple"
   ]
  },
  {
   "cell_type": "markdown",
   "id": "059f2a58",
   "metadata": {},
   "source": [
    "### 1.2 flask安装与使用"
   ]
  },
  {
   "cell_type": "code",
   "execution_count": null,
   "id": "9e2e4c35",
   "metadata": {},
   "outputs": [],
   "source": [
    "!sudo pip install flask"
   ]
  },
  {
   "cell_type": "markdown",
   "id": "8a718275-afbb-4e76-ad4e-31b92335ce1f",
   "metadata": {},
   "source": [
    "## 2 部署模型"
   ]
  },
  {
   "cell_type": "markdown",
   "id": "10144143-b449-4499-ad31-ce23d6c0319b",
   "metadata": {},
   "source": [
    "### 2.1 模型部署介绍\n",
    "\n",
    "部署yolo目标检测模型需要启动两个服务，需要启动两个终端，分别运行：\n",
    "\n",
    "1. 后端模型服务\n",
    "2. 前端页面服务\n"
   ]
  },
  {
   "cell_type": "markdown",
   "id": "b6d2e0a3",
   "metadata": {},
   "source": [
    "### 2.2 启动后端模型服务\n",
    "**打开一个新的terminal，进入到back目录下执行以下命令部署前端**\n",
    "`python3 app.py`\n",
    "\n",
    "如下图所示：\n",
    "\n",
    "<img style=\"float: center;\" width = \"1024\" height = \"600\" src=\"./tmp/image/后端服务启动.png\">"
   ]
  },
  {
   "cell_type": "markdown",
   "id": "7fe25ca4-d10c-47f5-a79e-e686b03105ea",
   "metadata": {},
   "source": [
    "### 2.3 启动前端页面服务"
   ]
  },
  {
   "cell_type": "markdown",
   "id": "4ea15971",
   "metadata": {},
   "source": [
    "**在front目录下执行以下命令部署前端**\n",
    "\n",
    "`npm install`\n",
    "\n",
    "`npm run serve`\n",
    "\n",
    "如下图所示：\n",
    "\n",
    "<img style=\"float: center;\" width = \"1024\" height = \"600\" src=\"./tmp/image/前端页面服务启动.png\">"
   ]
  },
  {
   "cell_type": "markdown",
   "id": "d05d605e-809e-44e4-a5ec-4323b4218388",
   "metadata": {},
   "source": [
    "### 2.4 启动云桌面，打开浏览器输入`http://localhost:8080`\n",
    "\n",
    "**将任意一张图片放到`Desktop`文件夹下**\n",
    "\n",
    "<img style=\"float: center;\" width = \"600\" height = \"200\" src=\"./tmp/image/云桌面放入图片.png\">\n",
    "\n",
    "**点击`+`号，打开云桌面**\n",
    "\n",
    "<img style=\"float: center;\" width = \"600\" height = \"200\" src=\"./tmp/image/打开云桌面.png\">\n",
    "\n",
    "<img style=\"float: center;\" width = \"600\" height = \"200\" src=\"./tmp/image/云桌面.png\">\n",
    "\n",
    "**打开浏览器如下图所示：**\n",
    "\n",
    "<img style=\"float: center;\" width = \"800\" height = \"600\" src=\"./tmp/image/桌面浏览器.png\">\n",
    "\n",
    "**最终效果如下图所示：**\n",
    "\n",
    "<img style=\"float: center;\" width = \"800\" height = \"600\" src=\"./tmp/image/检测效果.jpg\">"
   ]
  },
  {
   "cell_type": "markdown",
   "id": "0e47c11d-ec1d-4a79-bce0-114ce1ac81e0",
   "metadata": {},
   "source": [
    "## 3 使用flask部署模型详解"
   ]
  },
  {
   "cell_type": "markdown",
   "id": "97689d41-f12e-4091-8cb6-a1b38a87e089",
   "metadata": {},
   "source": [
    "**停止后端模型服务**"
   ]
  },
  {
   "cell_type": "markdown",
   "id": "f09a26b7-18ee-4b47-b8e1-fcc7d2290931",
   "metadata": {},
   "source": [
    "本小节对后端服务的模型部署进行详细讲解，需要先关闭第一个terminal的后端模型服务"
   ]
  },
  {
   "cell_type": "markdown",
   "id": "378ec31a-3d1e-444c-a659-2a1466dac540",
   "metadata": {},
   "source": [
    "###  3.1 一个最小的 Flask 应用如下："
   ]
  },
  {
   "cell_type": "markdown",
   "id": "cb8acaa0-9846-4c8f-83a3-9734df99103c",
   "metadata": {},
   "source": [
    "```python\n",
    "from flask import Flask\n",
    "\n",
    "app = Flask(__name__)\n",
    "\n",
    "@app.route(\"/\")\n",
    "def hello_world():\n",
    "    return \"<p>Hello, World!</p>\"\n",
    "```"
   ]
  },
  {
   "cell_type": "markdown",
   "id": "09bc1f1f-df3c-4c58-884e-74607d14c7b0",
   "metadata": {},
   "source": [
    "那么，这些代码是什么意思呢？\n",
    "\n",
    "首先我们导入了 Flask 类。该类的实例将会成为我们的 WSGI 应用。\n",
    "\n",
    "接着我们创建一个该类的实例。第一个参数是应用模块或者包的名称。 __name__ 是一个适用于大多数情况的快捷方式。有了这个参数， Flask 才能知道在哪里可以找到模板和静态文件等东西。\n",
    "\n",
    "然后我们使用 route() 装饰器来告诉 Flask 触发函数 的 URL 。\n",
    "\n",
    "函数返回需要在用户浏览器中显示的信息。默认的内容类型是 HTML ，因此字 符串中的 HTML 会被浏览器渲染。"
   ]
  },
  {
   "cell_type": "markdown",
   "id": "e3a57337-59dc-4586-8b37-ab876f46ddd8",
   "metadata": {},
   "source": [
    "### 3.2 搭建flask框架"
   ]
  },
  {
   "cell_type": "markdown",
   "id": "ea7a7ac6-025e-4a9b-8279-32cb41a7cd55",
   "metadata": {},
   "source": [
    "**进入后端服务所在文件夹**"
   ]
  },
  {
   "cell_type": "code",
   "execution_count": null,
   "id": "307ec3bb-bfb2-46be-a440-c4799f989c6c",
   "metadata": {},
   "outputs": [],
   "source": [
    "%cd '/home/jovyan/yolo-flask-vue/back'\n",
    "!ls"
   ]
  },
  {
   "cell_type": "markdown",
   "id": "01445741-e6cb-4eea-ad0f-c5b8de0c80c9",
   "metadata": {},
   "source": [
    "**导入必要的包和模块**"
   ]
  },
  {
   "cell_type": "code",
   "execution_count": null,
   "id": "a3227c7e-ece8-435a-ab7c-a7e90a01b73f",
   "metadata": {},
   "outputs": [],
   "source": [
    "import datetime ## 时间模块\n",
    "import logging as rel_log  ## 日志模块\n",
    "import os  ## 系统模块\n",
    "import shutil  ##复制文件模块\n",
    "from datetime import timedelta  ## 时间模块中的timedelta\n",
    "from flask import *  ## flask模块\n",
    "\n",
    "import core.main ##核心代码中的main预测函数\n",
    "from processor.detector import Detector  ##加载模型类\n",
    "from flask_ngrok import run_with_ngrok  ##反向代理flask模块"
   ]
  },
  {
   "cell_type": "markdown",
   "id": "ab1b294d-2d2a-4d5b-83ba-4fe0cb6b1723",
   "metadata": {},
   "source": [
    "**设置参数**"
   ]
  },
  {
   "cell_type": "code",
   "execution_count": null,
   "id": "bb5701e0-0a45-49a3-9f0c-347eeadba6cb",
   "metadata": {},
   "outputs": [],
   "source": [
    "UPLOAD_FOLDER = r'./uploads'   ##上传目录\n",
    "\n",
    "ALLOWED_EXTENSIONS = set(['png', 'jpg','jpeg'])  ##检测图片格式\n",
    "app = Flask(__name__)  ##初始化flask app\n",
    "app.config['UPLOAD_FOLDER'] = UPLOAD_FOLDER  ##把上传目录设置在flask通用参数 \n",
    "werkzeug_logger = rel_log.getLogger('werkzeug')  ## flask 日志设置\n",
    "werkzeug_logger.setLevel(rel_log.ERROR)  ## 日志等级设置\n",
    "\n",
    "app.config['SEND_FILE_MAX_AGE_DEFAULT'] = timedelta(seconds=1)  ## 解决缓存刷新问题"
   ]
  },
  {
   "cell_type": "markdown",
   "id": "4c46543c-c146-4742-84c5-8cfd89d029ff",
   "metadata": {},
   "source": [
    "- `@app.after_request`：函数被响应对象调用，并且必须返回响应对象。这允许函数修改或在发送之前替换响应。"
   ]
  },
  {
   "cell_type": "code",
   "execution_count": null,
   "id": "d4881904-f673-468f-982a-2bc1e8255972",
   "metadata": {},
   "outputs": [],
   "source": [
    "# 添加header解决跨域\n",
    "@app.after_request\n",
    "def after_request(response):\n",
    "    response.headers['Access-Control-Allow-Origin'] = '*'\n",
    "    response.headers['Access-Control-Allow-Credentials'] = 'true'\n",
    "    response.headers['Access-Control-Allow-Methods'] = 'POST'\n",
    "    response.headers['Access-Control-Allow-Headers'] = 'Content-Type, X-Requested-With'\n",
    "    return response"
   ]
  },
  {
   "cell_type": "markdown",
   "id": "0e80b391-e918-416e-9d58-1bff80aa8801",
   "metadata": {},
   "source": [
    "**设置允许访问的图片格式参数**\n",
    "\n",
    "<font color=red size=3>动手练习1</font>\n",
    "\n",
    "使用上述已申明变量`ALLOWED_EXTENSIONS`，请在`<1>`中写出如何判断文件是否属于允许请求的格式。\n",
    "\n",
    "语句为：`filename.rsplit('.', 1)[1] in ALLOWED_EXTENSIONS`"
   ]
  },
  {
   "cell_type": "code",
   "execution_count": null,
   "id": "3b7b5caf-7346-435c-91fd-876713d9543b",
   "metadata": {},
   "outputs": [],
   "source": [
    "def allowed_file(filename):\n",
    "    return '.' in filename and <1>"
   ]
  },
  {
   "cell_type": "markdown",
   "id": "95626fc8-5d77-4517-b2dd-197d0f3bcb7d",
   "metadata": {},
   "source": [
    "<details>\n",
    "<summary><font color=red size=3>点击查看动手练习1答案</font></summary>\n",
    "<pre><code>\n",
    "\n",
    "```python\n",
    "def allowed_file(filename):\n",
    "    return '.' in filename and filename.rsplit('.', 1)[1] in ALLOWED_EXTENSIONS\n",
    "```\n",
    "</code></pre>\n",
    "</details>"
   ]
  },
  {
   "cell_type": "markdown",
   "id": "f082abed-1b28-4e76-bc50-74a0cd3900ab",
   "metadata": {},
   "source": [
    "#### 接口设置url\n",
    "接口访问请求的地址\n",
    "- `@app.route('/')`：装饰一个视图函数，用给定的URL注册它规则和选项。调用:meth: ' add_url_rule '，它有更多实现的细节\n",
    "  参数说明：\n",
    "  - `methods`：list，当前url地址,允许访问的请求方式 类型为可迭代对象,允许八种http请求方式。\n",
    "  - `endpoint`：str，路由Mapping地址对应视图函数,相当于给函数起个别名。\n",
    "  - `strict_slashes`:bool，url地址结尾符“ / ”的控制False: 无论结尾 “ / ” 是否存在均可以访问, True: 结尾不允许是“ / ”。\n",
    "  - `defaults`: object，视图函数的参数默认值。\n",
    "  - `strict_slashes`:str，url地址重定向, 浏览器的请求返回为308。\n",
    "  - `subdomain`: str，子域名前缀, subdoadmin=“car”, 这样可以得到car.xxx.com 不过还需要配置。"
   ]
  },
  {
   "cell_type": "code",
   "execution_count": null,
   "id": "4d969ab1-f269-48aa-9da4-82556dcd894b",
   "metadata": {},
   "outputs": [],
   "source": [
    "@app.route('/')\n",
    "def hello_world():\n",
    "    return redirect(url_for('static', filename='./index.html'))"
   ]
  },
  {
   "cell_type": "markdown",
   "id": "d862dadc-1801-46b2-b5fa-61ff00a6e473",
   "metadata": {},
   "source": [
    "**设置展示文件的接口**"
   ]
  },
  {
   "cell_type": "code",
   "execution_count": null,
   "id": "87b14ee6-3a51-4fcc-9184-89a69263cf57",
   "metadata": {},
   "outputs": [],
   "source": [
    "@app.route('/tmp/<path:file>', methods=['GET'])\n",
    "def show_photo(file):\n",
    "    if request.method == 'GET':\n",
    "        if not file is None:\n",
    "            image_data = open(f'tmp/{file}', \"rb\").read()\n",
    "            response = make_response(image_data)\n",
    "            response.headers['Content-Type'] = 'image/png'\n",
    "            return response"
   ]
  },
  {
   "cell_type": "markdown",
   "id": "af6f806f-b567-4602-9a66-0001bb2f18b7",
   "metadata": {},
   "source": [
    "**设置上传文件的接口**\n",
    "\n",
    "<font color=red size=3>动手练习2</font>\n",
    "\n",
    "\n",
    "在应用检测图形中，我们需要将图形保存到本地。再将图形进行处理检测，所以需要设置上传文件的保存路径，以及检测完图片后，存放的路径。\n",
    "\n",
    "\n",
    "- 请在`<1>`中写出原图的访问路径（ip+端口+url路径）`image_url': 'http://127.0.0.1:5003/tmp/ct/' + filename`\n",
    "\n",
    "- `<2>`中写出检测后图片访问路径（ip+端口+url路径）`draw_url':'http://127.0.0.1:5003/tmp/draw/' + filename`"
   ]
  },
  {
   "cell_type": "code",
   "execution_count": null,
   "id": "71557182-a387-4e74-ba7d-f57b590a170a",
   "metadata": {},
   "outputs": [],
   "source": [
    "@app.route('/upload', methods=['GET', 'POST'])\n",
    "def upload_file():\n",
    "    file = request.files['file']\n",
    "    print(datetime.datetime.now(), file.filename)\n",
    "    if file and allowed_file(file.filename):\n",
    "        src_path = os.path.join(app.config['UPLOAD_FOLDER'], file.filename)\n",
    "        file.save(src_path)\n",
    "        shutil.copy(src_path, './tmp/ct')\n",
    "        image_path = os.path.join('./tmp/ct', file.filename)\n",
    "        filename, image_info = core.main.c_main(\n",
    "            image_path, current_app.model, file.filename.rsplit('.', 1)[1])\n",
    "        return jsonify({'status': 1,\n",
    "                        <1>,\n",
    "                        <2>,\n",
    "                        'image_info': image_info})\n",
    "\n",
    "    return jsonify({'status': 0})"
   ]
  },
  {
   "cell_type": "markdown",
   "id": "c1374c34-67ed-4708-a25b-5c9eeec1e8d4",
   "metadata": {},
   "source": [
    "<details>\n",
    "<summary><font color=red size=3>点击查看动手练习2答案</font></summary>\n",
    "<pre><code>\n",
    "\n",
    "```python\n",
    "@app.route('/upload', methods=['GET', 'POST'])\n",
    "def upload_file():\n",
    "    file = request.files['file']\n",
    "    print(datetime.datetime.now(), file.filename)\n",
    "    if file and allowed_file(file.filename):\n",
    "        src_path = os.path.join(app.config['UPLOAD_FOLDER'], file.filename)\n",
    "        file.save(src_path)\n",
    "        shutil.copy(src_path, './tmp/ct')\n",
    "        image_path = os.path.join('./tmp/ct', file.filename)\n",
    "        filename, image_info = core.main.c_main(\n",
    "            image_path, current_app.model, file.filename.rsplit('.', 1)[1])\n",
    "        return jsonify({'status': 1,\n",
    "                        'image_url': 'http://127.0.0.1:5003/tmp/ct/' + filename,\n",
    "                        'draw_url': 'http://127.0.0.1:5003/tmp/draw/' + filename,\n",
    "                        'image_info': image_info})\n",
    "\n",
    "    return jsonify({'status': 0})\n",
    "```\n",
    "</code></pre>\n",
    "</details>"
   ]
  },
  {
   "cell_type": "markdown",
   "id": "a480d53b-d369-4c25-946d-addf94f428a3",
   "metadata": {},
   "source": [
    "**运行main函数，启动flask app**\n",
    "\n",
    "<font color=red size=3>动手练习3</font>\n",
    "\n",
    "\n",
    "在flask 启动过程中，需要设置启动的ip。启动的端口号。需要用户自己手动配置。默认是`127.0.0.1` 和`5003`端口\n",
    "\n",
    "\n",
    "请在`<1>`中写出ip,`<2>`中写出端口号"
   ]
  },
  {
   "cell_type": "code",
   "execution_count": null,
   "id": "69826c59-fca3-4bdf-97a2-ce5e0db65c2b",
   "metadata": {},
   "outputs": [],
   "source": [
    "if __name__ == '__main__':\n",
    "    files = [\n",
    "        'uploads', 'tmp/ct', 'tmp/draw',\n",
    "        'tmp/image', 'tmp/mask', 'tmp/uploads'\n",
    "    ]\n",
    "    for ff in files:\n",
    "        if not os.path.exists(ff):\n",
    "            os.makedirs(ff)\n",
    "    with app.app_context():\n",
    "        current_app.model = Detector()\n",
    "    app.run(host='127.0.0.1', port=5003)  ##设置app 启动的ip地址 端口 调试模式"
   ]
  },
  {
   "cell_type": "markdown",
   "id": "43a0a414-78e1-49d6-b116-33e74baaf45c",
   "metadata": {},
   "source": [
    "<details>\n",
    "<summary><font color=red size=3>点击查看动手练习3答案</font></summary>\n",
    "<pre><code>\n",
    "\n",
    "```python\n",
    "if __name__ == '__main__':\n",
    "    files = [\n",
    "        'uploads', 'tmp/ct', 'tmp/draw',\n",
    "        'tmp/image', 'tmp/mask', 'tmp/uploads'\n",
    "    ]\n",
    "    for ff in files:\n",
    "        if not os.path.exists(ff):\n",
    "            os.makedirs(ff)\n",
    "    with app.app_context():\n",
    "        current_app.model = Detector()\n",
    "    app.run(host='127.0.0.1', port=5003)  ##设置app 启动的ip地址 端口 调试模式\n",
    "```\n",
    "</code></pre>\n",
    "</details>"
   ]
  },
  {
   "cell_type": "markdown",
   "id": "60a40d90-a75a-46de-9c1a-2172c45fc05a",
   "metadata": {},
   "source": [
    "**打开云桌面在浏览器中输入`127.0.0.1::5003`**\n",
    "\n",
    "出现如下界面说明启动成功"
   ]
  },
  {
   "cell_type": "markdown",
   "id": "0b598429-c544-4cc2-88a9-e6936e3fadb1",
   "metadata": {},
   "source": [
    "<img style=\"float: center;\" width = \"600\" height = \"200\" src=\"./tmp/image/后端app启动.png\">"
   ]
  },
  {
   "cell_type": "markdown",
   "id": "65f90d15-e258-43c2-9ee1-702f4f96ae9e",
   "metadata": {},
   "source": []
  }
 ],
 "metadata": {
  "kernelspec": {
   "display_name": "Python 3 (ipykernel)",
   "language": "python",
   "name": "python3"
  },
  "language_info": {
   "codemirror_mode": {
    "name": "ipython",
    "version": 3
   },
   "file_extension": ".py",
   "mimetype": "text/x-python",
   "name": "python",
   "nbconvert_exporter": "python",
   "pygments_lexer": "ipython3",
   "version": "3.7.8"
  }
 },
 "nbformat": 4,
 "nbformat_minor": 5
}
