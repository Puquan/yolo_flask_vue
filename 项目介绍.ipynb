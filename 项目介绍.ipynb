{
 "cells": [
  {
   "cell_type": "markdown",
   "id": "22275d36-db34-4446-a8e0-13973ec01510",
   "metadata": {},
   "source": [
    "# 项目二：YOLO目标检测项目开发与部署实战"
   ]
  },
  {
   "cell_type": "markdown",
   "id": "ffa242bf-28df-42ac-8953-e27975b14416",
   "metadata": {},
   "source": [
    "## 项目导入："
   ]
  },
  {
   "cell_type": "markdown",
   "id": "c20eb7ff-2ff2-4a80-b73b-a442b6a3e5fe",
   "metadata": {},
   "source": [
    "本项目要进行简单的目标检测任务，目标检测要能够识别出图片的目标并给出其位置，由于图片中目标数是不定的，且要给出目标的精确位置，目标检测相比分类任务更复杂。目标检测的实际应用场景就是商品识别、无人驾驶等。如果能够在无人车上装载一个有效的目标检测系统，那么无人车将和人一样有了眼睛，可以快速地检测出前面的行人与车辆，从而作出实时决策。\n",
    "\n",
    "本项目还会涉及到模型部署，使用Flask框架。Flask是一个使用 Python 编写的轻量级 Web 应用框架，让我们可以使用Python语言快速实现一个网站或Web服务，在网站上快速进行图像分类。"
   ]
  },
  {
   "cell_type": "markdown",
   "id": "ddc09bb7-011b-42c7-93ab-8762f317ce5a",
   "metadata": {},
   "source": [
    "## 任务列表：\n",
    "\n",
    "#### 本教学分为3个部分，总计有3份教学notebook：\n",
    "\n",
    "[任务1.准备数据集并执行训练脚本](./任务1:准备数据集并执行训练脚本.ipynb)\n",
    "\n",
    "[任务2.搭建YOLOv3-tiny进行模型训练](./任务2.搭建YOLOv3-tiny进行模型训练.ipynb)\n",
    "\n",
    "[任务3:模型测试及应用部署.ipynb](../back/任务3:模型测试及应用部署.ipynb)"
   ]
  },
  {
   "cell_type": "markdown",
   "id": "2907dbcc-fd51-49a7-ba50-a128bf70bc95",
   "metadata": {},
   "source": [
    "## 文件夹用途说明：\n",
    "\n",
    "- [back]:负责处理后端的文件夹\n",
    "- [front]:负责前端网页的文件夹\n",
    "- [train]:负责模型训练的文件夹\n",
    "- [tmp]:存放notebook图片的文件夹"
   ]
  },
  {
   "cell_type": "code",
   "execution_count": null,
   "id": "de9b0ff5-ec4e-4edb-ba7b-1c168845e70c",
   "metadata": {},
   "outputs": [],
   "source": []
  }
 ],
 "metadata": {
  "kernelspec": {
   "display_name": "Python 3 (ipykernel)",
   "language": "python",
   "name": "python3"
  },
  "language_info": {
   "codemirror_mode": {
    "name": "ipython",
    "version": 3
   },
   "file_extension": ".py",
   "mimetype": "text/x-python",
   "name": "python",
   "nbconvert_exporter": "python",
   "pygments_lexer": "ipython3",
   "version": "3.7.8"
  }
 },
 "nbformat": 4,
 "nbformat_minor": 5
}
