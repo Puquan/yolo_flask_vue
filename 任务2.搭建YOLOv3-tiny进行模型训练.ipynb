{
 "cells": [
  {
   "cell_type": "markdown",
   "id": "1a4e2069",
   "metadata": {},
   "source": [
    "#  任务2:使用YOLOv3进行模型训练\n",
    "\n",
    "## 职业能力目标：\n",
    "\n",
    "- 了解YOLOv3_tiny算法\n",
    "\n",
    "- 学习搭建模型的方法\n",
    "\n",
    "- 训练YOLOv3_tiny模型用来进行目标检测\n",
    "\n",
    "## 任务描述\n",
    "\n",
    "- 介绍YOLOv3_tiny算法，损失函数\n",
    "\n",
    "- 训练模型进行目标检测"
   ]
  },
  {
   "cell_type": "markdown",
   "id": "66e26fd5-aa8a-41d2-954f-a3b9220656f5",
   "metadata": {},
   "source": [
    "## 知识储备"
   ]
  },
  {
   "cell_type": "markdown",
   "id": "0d018df3",
   "metadata": {},
   "source": [
    "## 1 yolov3_tiny介绍\n",
    "YOLOV3-tiny就是在YOLOv3的基础上去掉了一些特征层，只保留了2个独立预测分支，所以在速度上要比YOLOv3快。具体的结构图如下"
   ]
  },
  {
   "cell_type": "markdown",
   "id": "609a7641",
   "metadata": {},
   "source": [
    "<img style=\"float: center;\" width = \"500\" height = \"200\" src=\"./tmp/image/yolov3_tiny.jpeg\">"
   ]
  },
  {
   "cell_type": "markdown",
   "id": "f4a29f07-c5a5-4ef0-9de9-9545548946c2",
   "metadata": {},
   "source": [
    "## 任务实施"
   ]
  },
  {
   "cell_type": "markdown",
   "id": "cc336957-73bc-487d-8a28-9e7b845dc3c0",
   "metadata": {},
   "source": [
    "## 1 依赖环境安装"
   ]
  },
  {
   "cell_type": "markdown",
   "id": "137ce34d-d491-4146-ab37-4019c0e9895c",
   "metadata": {},
   "source": [
    "**将任务路径更改到`train`目录下**"
   ]
  },
  {
   "cell_type": "code",
   "execution_count": null,
   "id": "894bcf01-ee34-4a56-8adc-a931300e3005",
   "metadata": {},
   "outputs": [],
   "source": [
    "%cd '/home/jovyan/yolo-flask-vue/train'\n",
    "!ls"
   ]
  },
  {
   "cell_type": "code",
   "execution_count": null,
   "id": "65775471-6eb5-456c-8a93-fc1718e2b4d9",
   "metadata": {},
   "outputs": [],
   "source": [
    "!sudo pip install --upgrade pip\n",
    "\n",
    "!sudo pip install -r requirements.txt -i https://pypi.douban.com/simple"
   ]
  },
  {
   "cell_type": "markdown",
   "id": "28f98474",
   "metadata": {},
   "source": [
    "## 2 搭建yolov3-tiny模型"
   ]
  },
  {
   "cell_type": "markdown",
   "id": "8bd3015d-55d6-4aaf-aa4b-ddadcbd561d6",
   "metadata": {},
   "source": [
    "### 2.1 导入相关模块"
   ]
  },
  {
   "cell_type": "markdown",
   "id": "5a294da8-324c-44a2-b969-1d9dd001e46d",
   "metadata": {},
   "source": [
    "模块介绍：\n",
    "- `tensorflow`一个基于数据流编程的符号数学系统，被广泛应用于各类机器学习算法的编程实现，其前身是谷歌的神经网络算法库DistBelief。\n",
    "- `decode_cfg`用于解码模型配置参数，如路径、模型名称等等\n",
    "- `init`用于存储模型的参数\n",
    "- `Header`目标检测计算方法，返回框的位置，置信度，分类等"
   ]
  },
  {
   "cell_type": "code",
   "execution_count": null,
   "id": "5c69b3a2",
   "metadata": {},
   "outputs": [],
   "source": [
    "import tensorflow as tf\n",
    "from core.utils.config import decode_cfg\n",
    "from config import init  ##参数配置\n",
    "from core.model.one_stage.yolov3.yolov3 import Header ##模型内部参数计算方法"
   ]
  },
  {
   "cell_type": "markdown",
   "id": "1e6f16bc-ff80-48cc-b903-1a18e6e8ec34",
   "metadata": {},
   "source": [
    "### 2.2 读取配置文件"
   ]
  },
  {
   "cell_type": "markdown",
   "id": "c157dbe4",
   "metadata": {},
   "source": [
    "部分参数介绍：\n",
    "- `cfg`解析的是[yolov3_tiny.yaml](./train/cfgs/yolov3_tiny.yaml)文件信息，其中：\n",
    "\n",
    "    type: \"yolov3_tiny\" 使用模型类型\n",
    "\n",
    "    iou_threshold: 0.5  IOU就是交集和并集的比值，Intersection over Union\n",
    "\n",
    "    score_threshold: 0.4  得分阈值\n",
    "\n",
    "    max_boxes: 100 最大boxes值\n",
    "\n",
    "    strides: \"32,16,8\"  做卷积运算的步长\n",
    "\n",
    "    anchors: \"10,13 16,30 33,23 30,61 62,45 59,119 116,90 156,198 373,326\"  \n",
    "                                  锚定点，预选框值\n",
    "\n",
    "    mask: \"6,7,8 3,4,5 0,1,2\"     预选框的参数组\n",
    "- `LEAKY_ALPHA`在激活函数`tf.keras.layers.LeakyReLU`中使用，用于参数激活时给特定参数一个系数。"
   ]
  },
  {
   "cell_type": "code",
   "execution_count": null,
   "id": "0fcd1316",
   "metadata": {},
   "outputs": [],
   "source": [
    "cfg = decode_cfg(init.TRAIN.YAML_PATH)\n",
    "input_size=None\n",
    "WEIGHT_DECAY = 0. ##权重衰变\n",
    "LEAKY_ALPHA = 0.1 ##斜率\n",
    "name=None"
   ]
  },
  {
   "cell_type": "markdown",
   "id": "894eff73-1fe6-4229-89d3-238fff53632d",
   "metadata": {},
   "source": [
    "参数介绍：\n",
    "- `iou_threshold` iou为目标检测算法性能指标\n",
    "- `score_threshold` score是物体检测置信度\n",
    "- `max_outputs` 最大检测框数量\n",
    "- `num_classes` 检测物品类别数\n",
    "- `strides`两个值，分别为两个输出的缩放比例\n",
    "- `mask` yolo中有初始化的框用于备选，这里有两组框作为备选\n",
    "- `anchors` 预测框的初始宽高，第一个是w，第二个是h"
   ]
  },
  {
   "cell_type": "markdown",
   "id": "bb18b2e7-0074-455c-84b6-a9f2abff8ad3",
   "metadata": {},
   "source": [
    "<font color = 'red' size=3>动手练习1</font>\n",
    "\n",
    "根据参数介绍以及设置好的参数，补充`<>`部分的参数"
   ]
  },
  {
   "cell_type": "code",
   "execution_count": null,
   "id": "71686a2e-5205-4b18-906e-04eb7b463217",
   "metadata": {},
   "outputs": [],
   "source": [
    "iou_threshold = cfg[\"yolo\"][\"iou_threshold\"]"
   ]
  },
  {
   "cell_type": "code",
   "execution_count": null,
   "id": "80fef39d-63d9-4946-8d56-d09049f06e5c",
   "metadata": {},
   "outputs": [],
   "source": [
    "iou_threshold"
   ]
  },
  {
   "cell_type": "code",
   "execution_count": null,
   "id": "05b736c6-b44d-41cb-90e8-832052f70efc",
   "metadata": {},
   "outputs": [],
   "source": [
    "score_threshold = cfg[\"yolo\"][\"score_threshold\"]\n",
    "max_outputs = cfg[\"yolo\"][\"max_boxes\"]\n",
    "num_classes = cfg[\"yolo\"][\"num_classes\"]\n",
    "strides = cfg[\"yolo\"][\"strides\"]\n",
    "mask = <1>\n",
    "anchors = <2>"
   ]
  },
  {
   "cell_type": "markdown",
   "id": "4df12c79-42fa-445b-908e-909c146cc3e3",
   "metadata": {},
   "source": [
    "执行以下代码，输出为`[3 4 5]`和`[23 27]`则填写正确"
   ]
  },
  {
   "cell_type": "code",
   "execution_count": null,
   "id": "bafb803d-bc4e-4e14-9fe3-fe409ba8b983",
   "metadata": {},
   "outputs": [],
   "source": [
    "print(mask[0])\n",
    "print(anchors[0])"
   ]
  },
  {
   "cell_type": "markdown",
   "id": "46439eca-a0a3-40d3-8836-bd144f90a00d",
   "metadata": {},
   "source": [
    "### 2.3 定义模型组件"
   ]
  },
  {
   "cell_type": "markdown",
   "id": "8db6518a",
   "metadata": {},
   "source": [
    "\n",
    "- `DarknetConv2D_BN_Leaky(*args, **kwargs)`：是yolo模型中的基础单元，有三个部分组成即：  \n",
    "  内部说明：\n",
    "  - DarknetConv2D()\n",
    "     - 1个Darknet的2维卷积Conv2D层，即DarknetConv2D；\n",
    "  - BatchNormalization()\n",
    "     - 1个正则化层函数，即BatchNormalization()；\n",
    "  - LeakyReLU()\n",
    "     - 1个LeakyReLU层，斜率是0.1，LeakyReLU是ReLU的变换；"
   ]
  },
  {
   "cell_type": "markdown",
   "id": "a429ae57-9974-42c3-a857-3b842137eb2a",
   "metadata": {},
   "source": [
    "**定义模型基础单元**"
   ]
  },
  {
   "cell_type": "code",
   "execution_count": null,
   "id": "b4699ae0",
   "metadata": {},
   "outputs": [],
   "source": [
    "def DarknetConv2D(*args, **kwargs):\n",
    "    darknet_conv_kwargs = {\"kernel_regularizer\": tf.keras.regularizers.l2(WEIGHT_DECAY),\n",
    "                           \"kernel_initializer\": tf.keras.initializers.RandomNormal(mean=0.0, stddev=0.01),\n",
    "                           \"padding\": \"valid\" if kwargs.get(\n",
    "                               \"strides\") == (2, 2) else \"same\"}\n",
    "    darknet_conv_kwargs.update(kwargs)\n",
    "\n",
    "    return tf.keras.layers.Conv2D(*args, **darknet_conv_kwargs)"
   ]
  },
  {
   "cell_type": "code",
   "execution_count": null,
   "id": "40419ee7",
   "metadata": {},
   "outputs": [],
   "source": [
    "def DarknetConv2D_BN_Leaky(*args, **kwargs):\n",
    "    without_bias_kwargs = {\"use_bias\": False}\n",
    "    without_bias_kwargs.update(kwargs)\n",
    "\n",
    "    def wrapper(x):\n",
    "        x = DarknetConv2D(*args, **without_bias_kwargs)(x)\n",
    "        x = tf.keras.layers.BatchNormalization()(x)\n",
    "        x = tf.keras.layers.LeakyReLU(alpha=LEAKY_ALPHA)(x)\n",
    "        return x\n",
    "\n",
    "    return wrapper"
   ]
  },
  {
   "cell_type": "markdown",
   "id": "c64534cf-0821-4767-9ddd-ae15df7459d9",
   "metadata": {},
   "source": [
    "**定义获取数据形状的单元**"
   ]
  },
  {
   "cell_type": "markdown",
   "id": "7e73c07e",
   "metadata": {},
   "source": [
    "- `PreprocessInput(tf.keras.layers.Layer)`：输入参数的预处理：  \n",
    "  内部说明：\n",
    "  -  __init__(self, **kwargs)\n",
    "     - 保存成员变量的设置；\n",
    "  - build(self, input_shape)\n",
    "     - 在call()函数第一次执行时会被调用一次，这时候可以知道输入数据的shape。返回去看一看，果然是__init__()函数中只初始化了输出数据的shape，而输入数据的shape需要在build()函数中动态获取，这也解释了为什么在有__init__()函数时还需要使用build()函数；\n",
    "  - call(self, inputs, **kwargs)\n",
    "     - call()函数就很简单了，即当其被调用时会被执行；\n",
    "  - compute_output_shape(self, input_shape)\n",
    "     - 如果该层尚未构建，此方法会构建该层。这假设层稍后将与以下输入一起使用匹配这里提供的输入形状；"
   ]
  },
  {
   "cell_type": "code",
   "execution_count": null,
   "id": "24f5e9e5",
   "metadata": {},
   "outputs": [],
   "source": [
    "class PreprocessInput(tf.keras.layers.Layer):\n",
    "\n",
    "    def __init__(self, **kwargs):\n",
    "        super(PreprocessInput, self).__init__(**kwargs)\n",
    "\n",
    "    def build(self, input_shape):\n",
    "        super(PreprocessInput, self).build(input_shape)  \n",
    "\n",
    "    def call(self, inputs, **kwargs):\n",
    "        x = tf.divide(inputs, 255.)\n",
    "        return x\n",
    "\n",
    "    def compute_output_shape(self, input_shape):\n",
    "        return input_shape"
   ]
  },
  {
   "cell_type": "markdown",
   "id": "e296dc35-765f-4511-a37f-56688cc205c9",
   "metadata": {},
   "source": [
    "**开始搭建模型**"
   ]
  },
  {
   "cell_type": "markdown",
   "id": "f3dfc8a7",
   "metadata": {},
   "source": [
    "- `MaxPool2D(pool_size=(2, 2), strides=None)`：可以加快计算速度和防止过拟合的作用。  \n",
    "  参数说明：\n",
    "  - `pool_size`：指定池窗口的大小。\n",
    "  - `strides`：指定池操作的步幅。"
   ]
  },
  {
   "cell_type": "markdown",
   "id": "8465f8bc",
   "metadata": {},
   "source": [
    "- `tf.keras.layers.UpSampling2D(2)`：2D 输入的上采样层。沿着数据的行和列分别重复 size[0] 和 size[1] 次。  \n",
    "  参数说明：\n",
    "  - `size`：整数，或 2 个整数的元组。 行和列的上采样因子。\n",
    "  - `data_format`：字符串， channels_last (默认) 或 channels_first 之一， 表示输入中维度的顺序。channels_last 对应输入尺寸为 (batch, height, width, channels)， channels_first 对应输入尺寸为 (batch, channels, height, width)。 它默认为从 Keras 配置文件 ~/.keras/keras.json 中 找到的 image_data_format 值。 如果你从未设置它，将使用 \"channels_last\"。\n",
    "  - `interpolation`:字符串，nearest 或 bilinear 之一。 注意 CNTK 暂不支持 bilinear upscaling， 以及对于 Theano，只可以使用 size=(2, 2)。"
   ]
  },
  {
   "cell_type": "markdown",
   "id": "0bab961d-3185-4dca-b728-7b389b38a1c9",
   "metadata": {},
   "source": [
    "<font color = 'red' size=3>动手练习2</font>\n",
    "\n",
    "仔细查看模型搭建的方式，在`<1>`处`<2>`处补全模型\n",
    "- `<1>`处模型参数为`DarknetConv2D_BN_Leaky(32, 3)`\n",
    "- `<2>`处与其他位置一样"
   ]
  },
  {
   "cell_type": "markdown",
   "id": "5db93836-18a8-4657-8f95-5d9d1387fb0e",
   "metadata": {},
   "source": [
    "<img style=\"float: center;\" width = \"500\" height = \"200\" src=\"./tmp/image/yolov3_tiny.jpeg\">"
   ]
  },
  {
   "cell_type": "code",
   "execution_count": null,
   "id": "f0e90f2e",
   "metadata": {},
   "outputs": [],
   "source": [
    "if input_size is None:\n",
    "    x = inputs = tf.keras.Input([None, None, 3])\n",
    "else:\n",
    "    x = inputs = tf.keras.Input([input_size, input_size, 3])\n",
    "\n",
    "x = PreprocessInput()(x)\n",
    "\n",
    "x = DarknetConv2D_BN_Leaky(16, 3)(x)\n",
    "x = tf.keras.layers.MaxPool2D(2, 2, \"same\")(x)\n",
    "x = <1>\n",
    "x = <2>\n",
    "x = DarknetConv2D_BN_Leaky(64, 3)(x)\n",
    "x = tf.keras.layers.MaxPool2D(2, 2, \"same\")(x)\n",
    "x = DarknetConv2D_BN_Leaky(128, 3)(x)\n",
    "x = tf.keras.layers.MaxPool2D(2, 2, \"same\")(x)\n",
    "x = x_8 = DarknetConv2D_BN_Leaky(256, 3)(x)\n",
    "x = tf.keras.layers.MaxPool2D(2, 2, \"same\")(x)\n",
    "x = DarknetConv2D_BN_Leaky(512, 3)(x)\n",
    "x = tf.keras.layers.MaxPool2D(2, 1, \"same\")(x)\n",
    "x = DarknetConv2D_BN_Leaky(1024, 3)(x)\n",
    "\n",
    "x = x_13 = DarknetConv2D_BN_Leaky(256, 1)(x)\n",
    "x = DarknetConv2D_BN_Leaky(512, 3)(x)\n",
    "output_0 = DarknetConv2D(len(mask[0]) * (num_classes + 5), 1)(x)\n",
    "\n",
    "x = DarknetConv2D_BN_Leaky(128, 1)(x_13)\n",
    "x = tf.keras.layers.UpSampling2D(2)(x)\n",
    "x = tf.keras.layers.Concatenate()([x, x_8])\n",
    "\n",
    "x = DarknetConv2D_BN_Leaky(256, 3)(x)\n",
    "output_1 = DarknetConv2D(len(mask[1]) * (num_classes + 5), 1)(x)"
   ]
  },
  {
   "cell_type": "markdown",
   "id": "9961df65",
   "metadata": {},
   "source": [
    "- `tf.keras.Model`：在函数式 API 中，给定一些输入张量和输出张量，可以通过以下方式实例化一个 Model\n",
    "  参数说明：\n",
    "  - `inputs`：模型的输入:一个keras的输入的对象或列表。\n",
    "  - `outputs`：模型的输出。\n",
    "  - `name`:字符串，模型的名称。\n"
   ]
  },
  {
   "cell_type": "code",
   "execution_count": null,
   "id": "a565003a",
   "metadata": {},
   "outputs": [],
   "source": [
    "model = tf.keras.Model(inputs, (output_0, output_1), name=name)\n",
    "\n",
    "outputs = Header(num_classes, anchors, mask, strides, max_outputs, iou_threshold, score_threshold)(\n",
    "    (output_0, output_1))\n",
    "\n",
    "eval_model = tf.keras.Model(inputs, outputs, name=name)\n"
   ]
  },
  {
   "attachments": {
    "2de3b512-3dd1-4ba3-8b6a-40bab345b300.png": {
     "image/png": "[encoded data removed]"
    }
   },
   "cell_type": "markdown",
   "id": "54823e67-242c-4e09-9784-78c69865942b",
   "metadata": {},
   "source": [
    "执行以下代码，最后参数输出为\n",
    "\n",
    "![image.png](attachment:2de3b512-3dd1-4ba3-8b6a-40bab345b300.png)\n",
    "\n",
    "则动手练习2填写正确"
   ]
  },
  {
   "cell_type": "code",
   "execution_count": null,
   "id": "37ad600b-afce-4376-965d-41d9d70476a0",
   "metadata": {},
   "outputs": [],
   "source": [
    "model.summary()"
   ]
  },
  {
   "cell_type": "markdown",
   "id": "46fea06d-30fa-4c8b-9fb3-4856a4f51553",
   "metadata": {},
   "source": [
    "## 3.训练准备"
   ]
  },
  {
   "cell_type": "markdown",
   "id": "d1007546-b16d-4e23-bafd-6c250e45ea1c",
   "metadata": {},
   "source": [
    "### 3.1 导入必要的包和模块"
   ]
  },
  {
   "cell_type": "code",
   "execution_count": null,
   "id": "229e1042",
   "metadata": {},
   "outputs": [],
   "source": [
    "import os ##操作系统模块\n",
    "import time  ##时间模块\n",
    "from absl import app, flags  \n",
    "from tensorflow.keras import optimizers  ##优化器\n",
    "from core.utils import decode_cfg, load_weights  ##解析参数函数，加载模型权重函数\n",
    "from core.dataset import Dataset  ##数据集\n",
    "from core.callbacks import COCOEvalCheckpoint, CosineAnnealingScheduler, WarmUpScheduler  ##评估模型存储模型回调函数、学习率调整回调函数、预训练回调函数\n",
    "from core.utils.optimizers import Accumulative ##优化器生成函数\n",
    "from config import init  ##参数配置\n",
    "from core.model.one_stage.yolov3 import YOLOv3_Tiny as Model ##yolov3模型\n",
    "from core.model.one_stage.yolov3 import YOLOLoss as Loss  ##损失率函数\n"
   ]
  },
  {
   "cell_type": "markdown",
   "id": "ade4d147",
   "metadata": {},
   "source": [
    "### 3.2设置参数，读取配置\n",
    "\n",
    "<font color=red size=3>动手练习3</font>\n",
    "\n",
    "通过读取[config.py](./train/config.py)配置文件参数来定义参数\n",
    "\n",
    "- 请在`<1>`中写出训练数据集的长度\n",
    "- `<2>`填写代码实现读取`init`模块中的训练迭代次数`TRAIN.EPOCHS`参数"
   ]
  },
  {
   "cell_type": "code",
   "execution_count": null,
   "id": "aac2f271",
   "metadata": {},
   "outputs": [],
   "source": [
    "num = 29  ##网络层数\n",
    "cfg = decode_cfg(init.TRAIN.YAML_PATH) ##读取并解析yolov3——tiny配置文件\n",
    "train_dataset = Dataset(cfg) ##获取训练集数据\n",
    "epoch_steps = <1>  ##训练数据集长度\n",
    "epochs = <2>    #从配置中读取训练迭代次数"
   ]
  },
  {
   "cell_type": "markdown",
   "id": "42d2aa4a-7879-4841-83b2-3f52699d4d2e",
   "metadata": {},
   "source": [
    "执行以下代码，输出为`100 20`则填写正确"
   ]
  },
  {
   "cell_type": "code",
   "execution_count": null,
   "id": "b0a11aaf-3676-4891-9026-1c4ed20db384",
   "metadata": {},
   "outputs": [],
   "source": [
    "print(epoch_steps)\n",
    "print(epochs)"
   ]
  },
  {
   "cell_type": "markdown",
   "id": "3b4cff84",
   "metadata": {},
   "source": [
    "### 3.3从yolov3_tiny.yaml配置文件中读取数据，加载权重\n",
    "<font color=red size=3>动手练习4</font>\n",
    "\n",
    "在`<1>`中使用`load_weights`方法写出加载模型权重\n",
    "- `load_weights(model, weight)`\n",
    "    - 参数1为要导入的模型，这里是`model`\n",
    "    - 参数2为要导入的权重，这里是`init_weight`"
   ]
  },
  {
   "cell_type": "code",
   "execution_count": null,
   "id": "3aad83e2",
   "metadata": {},
   "outputs": [],
   "source": [
    "init_weight = init.TRAIN.INIT_WEIGHT_PATH    #载入预训练权重路径\n",
    "anchors = cfg['yolo']['anchors'] ##预选框\n",
    "mask = cfg['yolo']['mask']  ##预选矿的序列范围\n",
    "strides = cfg['yolo']['strides']  ##步长\n",
    "ignore_threshold = cfg['train']['ignore_threshold'] ##丢失阈值\n",
    "loss_type = cfg['train']['loss_type'] ##损失函数类型\n",
    "\n",
    "if init_weight:              ##加载模型\n",
    "    <1>\n",
    "else:\n",
    "    print(\"Training from scratch\")\n",
    "    num = 0"
   ]
  },
  {
   "cell_type": "markdown",
   "id": "ead519cb",
   "metadata": {},
   "source": [
    "### 3.4创建损失函数\n",
    "- `Loss(anchors, stride, num_classes, ignore_thresh, type)`：实例化损失函数\n",
    "  参数说明：\n",
    "  - `anchors`：锚定点，预选框值。\n",
    "  - `stride`：步长。\n",
    "  - `num_classes`:类型数量。\n",
    "  - `ignore_thresh`：忽略阈值。\n",
    "  - `type`:函数类型。\n",
    "\n",
    "\n",
    "我们对每个锚定点的每个预选框都求一个损失值："
   ]
  },
  {
   "cell_type": "code",
   "execution_count": null,
   "id": "36a6fba9",
   "metadata": {},
   "outputs": [],
   "source": [
    "loss = [Loss(anchors[mask[i]],\n",
    "             strides[i],\n",
    "             train_dataset.num_classes,\n",
    "             ignore_threshold,\n",
    "             loss_type) for i in range(len(mask))]"
   ]
  },
  {
   "cell_type": "markdown",
   "id": "4b8a2ba4",
   "metadata": {},
   "source": [
    "####  创建模型权重文件保存路径，加上标签，加上时间戳"
   ]
  },
  {
   "cell_type": "code",
   "execution_count": null,
   "id": "7e898c69",
   "metadata": {},
   "outputs": [],
   "source": [
    "ckpt_path = os.path.join(init.TRAIN.SAVE_WEIGHT_PATH, 'tmp', cfg[\"train\"][\"label\"],\n",
    "                         time.strftime(\"%Y%m%d%H%M\", time.localtime()))"
   ]
  },
  {
   "cell_type": "markdown",
   "id": "490b0da2",
   "metadata": {},
   "source": [
    "### 3.5模型预热训练回调函数\n",
    "\n",
    "- `WarmUpScheduler`：带有预热学习率调度器的余弦衰减构造器\n",
    "  参数说明：\n",
    "  - `learning_rate`：基础学习速率。\n",
    "  - `warmup_step`：热身步骤数。(默认值:{0})。\n",
    "  - `global_step_init`:初始全局步骤，例如来自前一个检查点。\n",
    "  - `learning_rate_init`：初始学习速度为热身。(默认值:{0.0})。\n",
    "  - `verbose`: 0:表示安静，1:表示更新消息。(默认值:{1})。\n",
    "  \n",
    "  \n",
    "\n",
    "<font color=red size=3>动手练习5</font>\n",
    "\n",
    "请在`<1>`填写配置文件中模型预热学习率参数`init.TRAIN.WARMUP_LEARN_RATE`\n",
    "\n",
    "`<2>`填写配置文件中模型预热训练次数`init.TRAIN.WARMUP_EPOCHS * epoch_steps`"
   ]
  },
  {
   "cell_type": "code",
   "execution_count": null,
   "id": "3914fe2a",
   "metadata": {},
   "outputs": [],
   "source": [
    "warmup_callback = [WarmUpScheduler(learning_rate=<1>, warmup_step=<2>, verbose=1)]"
   ]
  },
  {
   "cell_type": "markdown",
   "id": "7ba29ac3-9c0c-4760-8f95-d8400eb09240",
   "metadata": {},
   "source": [
    "填写完成后执行以下代码，输出结果类似：\n",
    "\n",
    "`[<core.callbacks.lrschedular.WarmUpScheduler at 0x7f321d4b2a50>]`\n",
    "\n",
    "说明填写正确。"
   ]
  },
  {
   "cell_type": "code",
   "execution_count": null,
   "id": "3ec8f141-c41f-4714-88ae-1e14a1cef148",
   "metadata": {},
   "outputs": [],
   "source": [
    "warmup_callback"
   ]
  },
  {
   "cell_type": "markdown",
   "id": "c3286384",
   "metadata": {},
   "source": [
    "### 3.6模型评估回调函数--进行存储模型\n",
    "\n",
    "- `COCOEvalCheckpoint`：评估模型回调函数用于存储模型\n",
    "  参数说明：\n",
    "  - `save_path`：存储路径。\n",
    "  - `eval_model`：评估模型。\n",
    "  - `model_cfg`:模型配置。\n",
    "  - `only_save_weight`：是否只存储权重值。\n",
    "  - `verbose`: 0:表示安静，1:表示更新消息。(默认值:{1})。\n",
    "  "
   ]
  },
  {
   "cell_type": "code",
   "execution_count": null,
   "id": "330163d9",
   "metadata": {},
   "outputs": [],
   "source": [
    "eval_callback = [COCOEvalCheckpoint(save_path=os.path.join(ckpt_path,init.TRAIN.SAVE_NAME),\n",
    "                                        eval_model=eval_model,\n",
    "                                        model_cfg=cfg,\n",
    "                                        verbose=1)]"
   ]
  },
  {
   "cell_type": "markdown",
   "id": "eab9e09f",
   "metadata": {},
   "source": [
    "### 3.7模型评估回调函数--修改训练学习率\n",
    "\n",
    "- `CosineAnnealingScheduler`：评估模型回调函数用于存储模型\n",
    "  参数说明：\n",
    "  - `learning_rate`：学习速率。\n",
    "  - `T_max`：总迭代次数。\n",
    "  - `eta_min`:最小学习率。\n",
    "  - `verbose`: 0:表示安静，1:表示更新消息。(默认值:{1})。"
   ]
  },
  {
   "cell_type": "code",
   "execution_count": null,
   "id": "22d2a879",
   "metadata": {},
   "outputs": [],
   "source": [
    "lr_callback = [CosineAnnealingScheduler(learning_rate=init.TRAIN.LEARN_RATE_INIT,\n",
    "                                            eta_min=init.TRAIN.LEARN_RATE_END,\n",
    "                                            T_max=epochs * epoch_steps,\n",
    "                                            verbose=1)]"
   ]
  },
  {
   "cell_type": "markdown",
   "id": "a0eb2725",
   "metadata": {},
   "source": [
    "### 3.8判断模型权重文件保存路径是否存在，不存在则创建"
   ]
  },
  {
   "cell_type": "code",
   "execution_count": null,
   "id": "71317f0f",
   "metadata": {},
   "outputs": [],
   "source": [
    "if not os.path.isdir(ckpt_path):\n",
    "    os.makedirs(ckpt_path)\n",
    "    os.makedirs(os.path.join(ckpt_path, 'train', 'plugins', 'profile'))"
   ]
  },
  {
   "cell_type": "markdown",
   "id": "c04fafb2",
   "metadata": {},
   "source": [
    "###  3.9定义优化器\n",
    "- `Adam(learning_rate)`：优化算法  \n",
    "  参数说明：\n",
    "  - `learning_rate`：学习率。将输出误差反向传播给网络参数，以此来拟合样本的输出。本质上是最优化的一个过程，逐步趋向于最优解。"
   ]
  },
  {
   "cell_type": "code",
   "execution_count": null,
   "id": "31a9b997",
   "metadata": {},
   "outputs": [],
   "source": [
    "opt = Accumulative(optimizers.Adam(lr=0.), 16)"
   ]
  },
  {
   "cell_type": "markdown",
   "id": "de2c9b1b",
   "metadata": {},
   "source": [
    "## 4 开始训练\n",
    "### 4.1冻结预训练模型层参数"
   ]
  },
  {
   "cell_type": "markdown",
   "id": "bb6b208e-359c-400e-8db3-4fa62128fbf1",
   "metadata": {},
   "source": [
    "预训练模型层总共29层，设定`model.layers[i].trainable = False`将他们冻结。"
   ]
  },
  {
   "cell_type": "code",
   "execution_count": null,
   "id": "1e9a53f0",
   "metadata": {},
   "outputs": [],
   "source": [
    "for i in range(num):\n",
    "    model.layers[i].trainable = False\n",
    "    print(model.layers[i].name)\n",
    "print('Freeze the first {} layers of total {} layers.'.format(num, len(model.layers)))"
   ]
  },
  {
   "cell_type": "markdown",
   "id": "78b32cce",
   "metadata": {},
   "source": [
    "### 4.2预热训练\n",
    "\n",
    "`compile`主要完成损失函数和优化器的一些配置，是为训练服务的。\n",
    "`fit`函数返回一个`History`的对象，其`History.history`属性记录了损失函数和其他指标的数值随`epoch`变化的情况，如果有验证集的话，也包含了验证集的这些指标变化情况\n",
    "\n",
    "<font color=red size=3>动手练习6</font>\n",
    "\n",
    "\n",
    "\n",
    "- `model.compile(optimizer,loss,run_eagerly)`：用于在配置训练方法时，告知训练时用的优化器、损失函数和准确率评测标准。  \n",
    "  参数说明：\n",
    "  - `optimizer`：优化器\n",
    "  - `loss`：损失函数；多分类损失函数有：二分类交叉熵损失函数`binary_crossentropy`、多类别交叉熵损失函数`categorical_crossentropy`\n",
    "  - `run_eagerly`：默认为“False”。如果“True”，则为“Model”逻辑不会封装在' tf.function '中。建议离开除非你的“模型”不能“tf.function”。\n",
    "  \n",
    "  \n",
    "- `model.fit`：以给定数量的轮次（数据集上的迭代）训练模型。  \n",
    "  参数说明：\n",
    "  - `batch_size`：每次梯度更新的样本数。如果未指定，默认为 32。\n",
    "  - `steps_per_epoch`：在声明一个轮次完成并开始下一个轮次之前的总步数（样品批次）。 使用 TensorFlow 数据张量等输入张量进行训练时，默认值 None 等于数据集中样本的数量除以 batch 的大小，如果无法确定，则为 1。\n",
    "  - `epochs`：训练模型迭代轮次。一个轮次是在整个 x 和 y 上的一轮迭代。 请注意，与 initial_epoch 一起，epochs 被理解为 「最终轮次」。模型并不是训练了 epochs 轮，而是到第 epochs 轮停止训练。\n",
    "  - `callbacks`：一系列的 keras.callbacks.Callback 实例。一系列可以在训练时使用的回调函数。 详见 callbacks。\n",
    "  - `verbose`：0 或 1。日志显示模式。 0 = 安静模式，1 = 进度条。\n",
    "  \n",
    "  \n",
    "- 请在`<1>`填写损失函数`loss`\n",
    "- `<2>`填写优化器`opt`"
   ]
  },
  {
   "cell_type": "code",
   "execution_count": null,
   "id": "8a5087e3",
   "metadata": {},
   "outputs": [],
   "source": [
    "model.compile(<1>, <2>, run_eagerly=False)\n",
    "model.fit(train_dataset,\n",
    "          steps_per_epoch=epoch_steps,\n",
    "          epochs=1,\n",
    "          callbacks=warmup_callback,\n",
    "          verbose=1\n",
    "          )\n"
   ]
  },
  {
   "cell_type": "markdown",
   "id": "59e3e716-3f7d-4681-b949-3a89189b167d",
   "metadata": {},
   "source": [
    "若能够顺利运行，这说明代码填写正确"
   ]
  },
  {
   "cell_type": "markdown",
   "id": "7e2d2257",
   "metadata": {},
   "source": [
    "### 4.3第一阶段训练\n",
    "专门训练模型的分类能力"
   ]
  },
  {
   "cell_type": "code",
   "execution_count": null,
   "id": "33edea31",
   "metadata": {},
   "outputs": [],
   "source": [
    "model.compile(loss=loss, optimizer=opt, run_eagerly=False)\n",
    "model.fit(train_dataset,\n",
    "          steps_per_epoch=epoch_steps,\n",
    "          epochs=epochs // 5 * 2,\n",
    "          callbacks=eval_callback + lr_callback,\n",
    "          verbose=1\n",
    "          )"
   ]
  },
  {
   "cell_type": "markdown",
   "id": "18e4566d",
   "metadata": {},
   "source": [
    "### 4.4释放模型层参数"
   ]
  },
  {
   "cell_type": "code",
   "execution_count": null,
   "id": "815d5949",
   "metadata": {},
   "outputs": [],
   "source": [
    "for i in range(len(model.layers)): model.layers[i].trainable = True\n",
    "print('Unfreeze all layers.')"
   ]
  },
  {
   "cell_type": "markdown",
   "id": "1958d99a-2b3d-4746-b365-b23e48ef2f30",
   "metadata": {},
   "source": [
    "### 4.5第二阶段训练\n",
    "训练所有模型层参数\n",
    "\n",
    "**注意，执行训练脚本花费的时间比较长，可能达到30分钟以上，设置较小的epochs，如设置`epochs=2`来进行训练**"
   ]
  },
  {
   "cell_type": "code",
   "execution_count": null,
   "id": "6276fe31",
   "metadata": {},
   "outputs": [],
   "source": [
    "model.compile(loss=loss, optimizer=opt, run_eagerly=False)\n",
    "model.fit(train_dataset,\n",
    "          steps_per_epoch=epoch_steps,\n",
    "          epochs=epochs // 5 * 3,\n",
    "          callbacks=eval_callback + lr_callback,\n",
    "          verbose=1\n",
    "          )"
   ]
  },
  {
   "cell_type": "markdown",
   "id": "158762ad",
   "metadata": {},
   "source": [
    "### 4.6 使用模型预测\n"
   ]
  },
  {
   "cell_type": "code",
   "execution_count": null,
   "id": "37a1b13a",
   "metadata": {},
   "outputs": [],
   "source": [
    "from absl import app, flags\n",
    "from core.utils import decode_cfg, load_weights\n",
    "from core.image import draw_bboxes, preprocess_image, postprocess_image, read_image, read_video, Shader\n",
    "import time\n",
    "import cv2\n",
    "import numpy as np\n",
    "from config import init\n",
    "import matplotlib.pyplot as plt # plt 用于显示图片\n",
    "import matplotlib.image as mpimg # mpimg 用于读取图片\n",
    "import numpy as np"
   ]
  },
  {
   "cell_type": "code",
   "execution_count": null,
   "id": "c5b4a53a",
   "metadata": {},
   "outputs": [],
   "source": [
    "def inference(image,model):\n",
    "\n",
    "    h, w = image.shape[:2]\n",
    "    image = preprocess_image(image, (416, 416)).astype(np.float32)\n",
    "    images = np.expand_dims(image, axis=0)\n",
    "\n",
    "    tic = time.time()\n",
    "    bboxes, scores, classes, valid_detections = model.predict(images)\n",
    "    toc = time.time()\n",
    "\n",
    "    bboxes = bboxes[0][:valid_detections[0]]\n",
    "    scores = scores[0][:valid_detections[0]]\n",
    "    classes = classes[0][:valid_detections[0]]\n",
    "\n",
    "    # bboxes *= image_size\n",
    "    _, bboxes = postprocess_image(image, (w, h), bboxes)\n",
    "\n",
    "    return (toc - tic) * 1000, bboxes, scores, classes"
   ]
  },
  {
   "cell_type": "markdown",
   "id": "9ea0cfd6",
   "metadata": {},
   "source": [
    "<font color=red size=3>动手练习7</font>\n",
    "\n",
    "请在`<1>`填写需要检测的图片路径，图片在`./data/supermarket/img`中。"
   ]
  },
  {
   "cell_type": "code",
   "execution_count": null,
   "id": "be853bbc",
   "metadata": {},
   "outputs": [],
   "source": [
    "image = read_image(<1>)\n",
    "shader = Shader(init.TRAIN.NUM_CLASSES)\n",
    "names = init.XML.LABELS\n",
    "ms, bboxes, scores, classes = inference(image,eval_model)\n",
    "image = draw_bboxes(image, bboxes, scores, classes, names, shader)\n",
    "plt.imshow(image) # 显示图片\n",
    "plt.axis('off') # 不显示坐标轴\n",
    "plt.show()"
   ]
  }
 ],
 "metadata": {
  "kernelspec": {
   "display_name": "Python 3 (ipykernel)",
   "language": "python",
   "name": "python3"
  },
  "language_info": {
   "codemirror_mode": {
    "name": "ipython",
    "version": 3
   },
   "file_extension": ".py",
   "mimetype": "text/x-python",
   "name": "python",
   "nbconvert_exporter": "python",
   "pygments_lexer": "ipython3",
   "version": "3.7.8"
  }
 },
 "nbformat": 4,
 "nbformat_minor": 5
}
